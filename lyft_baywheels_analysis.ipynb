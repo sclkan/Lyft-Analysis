{
 "cells": [
  {
   "cell_type": "markdown",
   "metadata": {},
   "source": [
    "# Analysis on Lyft's Bay Wheels Bike Sharing Program"
   ]
  },
  {
   "cell_type": "markdown",
   "metadata": {},
   "source": [
    "# Table of Contents\n",
    "- Gathering\n",
    "- Assessing\n",
    "- Cleaning\n",
    "- Analysis"
   ]
  },
  {
   "cell_type": "markdown",
   "metadata": {},
   "source": [
    "## Gathering"
   ]
  },
  {
   "cell_type": "code",
   "execution_count": 1,
   "metadata": {},
   "outputs": [],
   "source": [
    "import os\n",
    "import requests\n",
    "import zipfile\n",
    "import io\n",
    "import glob\n",
    "import numpy as np\n",
    "import pandas as pd"
   ]
  },
  {
   "cell_type": "code",
   "execution_count": 2,
   "metadata": {},
   "outputs": [],
   "source": [
    "#Create folder to store files\n",
    "folder_name = 'raw_files'\n",
    "if not os.path.exists(folder_name):\n",
    "    os.makedirs(folder_name)"
   ]
  },
  {
   "cell_type": "code",
   "execution_count": 3,
   "metadata": {},
   "outputs": [],
   "source": [
    "#Create function to download and extract files from source\n",
    "def extract(x):\n",
    "    #download file and extract\n",
    "    response= requests.get(x)\n",
    "    try:\n",
    "        zp = zipfile.ZipFile(io.BytesIO(response.content))\n",
    "        zp.extractall(folder_name)\n",
    "    \n",
    "    #if not a valid link, ignore and continue the script\n",
    "    except zipfile.BadZipFile:\n",
    "        pass"
   ]
  },
  {
   "cell_type": "code",
   "execution_count": 4,
   "metadata": {},
   "outputs": [],
   "source": [
    "#Get the month year component of the URL\n",
    "month_year = []\n",
    "for i in range(2017, 2020):\n",
    "    if i == 2017:\n",
    "        month_year.append(str(i))\n",
    "    else:\n",
    "        for j in range(1,13):\n",
    "            month_year.append(str(i) + str(j).zfill(2))  #make sure MM is in double digit"
   ]
  },
  {
   "cell_type": "markdown",
   "metadata": {},
   "source": [
    "#Re-create URL and download link\n",
    "for i in month_year:\n",
    "    if i < '201905':\n",
    "        old_url = 'https://s3.amazonaws.com/baywheels-data/{}-fordgobike-tripdata.csv.zip'.format(i)\n",
    "        extract(old_url)\n",
    "    else:\n",
    "        new_url = 'https://s3.amazonaws.com/baywheels-data/{}-baywheels-tripdata.csv.zip'.format(i)\n",
    "        extract(new_url)"
   ]
  },
  {
   "cell_type": "code",
   "execution_count": 5,
   "metadata": {},
   "outputs": [],
   "source": [
    "#Concatenate all csv into one dataframe\n",
    "master = pd.concat((pd.read_csv(files, dtype={'bike_share_for_all_trip': object, 'rental_access_method': object}) for files in glob.glob(folder_name+'/*.csv')), sort=False, ignore_index=True)"
   ]
  },
  {
   "cell_type": "code",
   "execution_count": 6,
   "metadata": {},
   "outputs": [],
   "source": [
    "#Clone master file\n",
    "df = master.copy()"
   ]
  },
  {
   "cell_type": "code",
   "execution_count": 7,
   "metadata": {},
   "outputs": [
    {
     "data": {
      "text/html": [
       "<div>\n",
       "<style scoped>\n",
       "    .dataframe tbody tr th:only-of-type {\n",
       "        vertical-align: middle;\n",
       "    }\n",
       "\n",
       "    .dataframe tbody tr th {\n",
       "        vertical-align: top;\n",
       "    }\n",
       "\n",
       "    .dataframe thead th {\n",
       "        text-align: right;\n",
       "    }\n",
       "</style>\n",
       "<table border=\"1\" class=\"dataframe\">\n",
       "  <thead>\n",
       "    <tr style=\"text-align: right;\">\n",
       "      <th></th>\n",
       "      <th>duration_sec</th>\n",
       "      <th>start_time</th>\n",
       "      <th>end_time</th>\n",
       "      <th>start_station_id</th>\n",
       "      <th>start_station_name</th>\n",
       "      <th>start_station_latitude</th>\n",
       "      <th>start_station_longitude</th>\n",
       "      <th>end_station_id</th>\n",
       "      <th>end_station_name</th>\n",
       "      <th>end_station_latitude</th>\n",
       "      <th>end_station_longitude</th>\n",
       "      <th>bike_id</th>\n",
       "      <th>user_type</th>\n",
       "      <th>bike_share_for_all_trip</th>\n",
       "      <th>rental_access_method</th>\n",
       "    </tr>\n",
       "  </thead>\n",
       "  <tbody>\n",
       "    <tr>\n",
       "      <th>0</th>\n",
       "      <td>80110</td>\n",
       "      <td>2017-12-31 16:57:39.6540</td>\n",
       "      <td>2018-01-01 15:12:50.2450</td>\n",
       "      <td>74.0</td>\n",
       "      <td>Laguna St at Hayes St</td>\n",
       "      <td>37.776435</td>\n",
       "      <td>-122.426244</td>\n",
       "      <td>43.0</td>\n",
       "      <td>San Francisco Public Library (Grove St at Hyde...</td>\n",
       "      <td>37.778768</td>\n",
       "      <td>-122.415929</td>\n",
       "      <td>96</td>\n",
       "      <td>Customer</td>\n",
       "      <td>NaN</td>\n",
       "      <td>NaN</td>\n",
       "    </tr>\n",
       "    <tr>\n",
       "      <th>1</th>\n",
       "      <td>78800</td>\n",
       "      <td>2017-12-31 15:56:34.8420</td>\n",
       "      <td>2018-01-01 13:49:55.6170</td>\n",
       "      <td>284.0</td>\n",
       "      <td>Yerba Buena Center for the Arts (Howard St at ...</td>\n",
       "      <td>37.784872</td>\n",
       "      <td>-122.400876</td>\n",
       "      <td>96.0</td>\n",
       "      <td>Dolores St at 15th St</td>\n",
       "      <td>37.766210</td>\n",
       "      <td>-122.426614</td>\n",
       "      <td>88</td>\n",
       "      <td>Customer</td>\n",
       "      <td>NaN</td>\n",
       "      <td>NaN</td>\n",
       "    </tr>\n",
       "    <tr>\n",
       "      <th>2</th>\n",
       "      <td>45768</td>\n",
       "      <td>2017-12-31 22:45:48.4110</td>\n",
       "      <td>2018-01-01 11:28:36.8830</td>\n",
       "      <td>245.0</td>\n",
       "      <td>Downtown Berkeley BART</td>\n",
       "      <td>37.870348</td>\n",
       "      <td>-122.267764</td>\n",
       "      <td>245.0</td>\n",
       "      <td>Downtown Berkeley BART</td>\n",
       "      <td>37.870348</td>\n",
       "      <td>-122.267764</td>\n",
       "      <td>1094</td>\n",
       "      <td>Customer</td>\n",
       "      <td>NaN</td>\n",
       "      <td>NaN</td>\n",
       "    </tr>\n",
       "    <tr>\n",
       "      <th>3</th>\n",
       "      <td>62172</td>\n",
       "      <td>2017-12-31 17:31:10.6360</td>\n",
       "      <td>2018-01-01 10:47:23.5310</td>\n",
       "      <td>60.0</td>\n",
       "      <td>8th St at Ringold St</td>\n",
       "      <td>37.774520</td>\n",
       "      <td>-122.409449</td>\n",
       "      <td>5.0</td>\n",
       "      <td>Powell St BART Station (Market St at 5th St)</td>\n",
       "      <td>37.783899</td>\n",
       "      <td>-122.408445</td>\n",
       "      <td>2831</td>\n",
       "      <td>Customer</td>\n",
       "      <td>NaN</td>\n",
       "      <td>NaN</td>\n",
       "    </tr>\n",
       "    <tr>\n",
       "      <th>4</th>\n",
       "      <td>43603</td>\n",
       "      <td>2017-12-31 14:23:14.0010</td>\n",
       "      <td>2018-01-01 02:29:57.5710</td>\n",
       "      <td>239.0</td>\n",
       "      <td>Bancroft Way at Telegraph Ave</td>\n",
       "      <td>37.868813</td>\n",
       "      <td>-122.258764</td>\n",
       "      <td>247.0</td>\n",
       "      <td>Fulton St at Bancroft Way</td>\n",
       "      <td>37.867789</td>\n",
       "      <td>-122.265896</td>\n",
       "      <td>3167</td>\n",
       "      <td>Subscriber</td>\n",
       "      <td>NaN</td>\n",
       "      <td>NaN</td>\n",
       "    </tr>\n",
       "  </tbody>\n",
       "</table>\n",
       "</div>"
      ],
      "text/plain": [
       "   duration_sec                start_time                  end_time  \\\n",
       "0         80110  2017-12-31 16:57:39.6540  2018-01-01 15:12:50.2450   \n",
       "1         78800  2017-12-31 15:56:34.8420  2018-01-01 13:49:55.6170   \n",
       "2         45768  2017-12-31 22:45:48.4110  2018-01-01 11:28:36.8830   \n",
       "3         62172  2017-12-31 17:31:10.6360  2018-01-01 10:47:23.5310   \n",
       "4         43603  2017-12-31 14:23:14.0010  2018-01-01 02:29:57.5710   \n",
       "\n",
       "   start_station_id                                 start_station_name  \\\n",
       "0              74.0                              Laguna St at Hayes St   \n",
       "1             284.0  Yerba Buena Center for the Arts (Howard St at ...   \n",
       "2             245.0                             Downtown Berkeley BART   \n",
       "3              60.0                               8th St at Ringold St   \n",
       "4             239.0                      Bancroft Way at Telegraph Ave   \n",
       "\n",
       "   start_station_latitude  start_station_longitude  end_station_id  \\\n",
       "0               37.776435              -122.426244            43.0   \n",
       "1               37.784872              -122.400876            96.0   \n",
       "2               37.870348              -122.267764           245.0   \n",
       "3               37.774520              -122.409449             5.0   \n",
       "4               37.868813              -122.258764           247.0   \n",
       "\n",
       "                                    end_station_name  end_station_latitude  \\\n",
       "0  San Francisco Public Library (Grove St at Hyde...             37.778768   \n",
       "1                              Dolores St at 15th St             37.766210   \n",
       "2                             Downtown Berkeley BART             37.870348   \n",
       "3       Powell St BART Station (Market St at 5th St)             37.783899   \n",
       "4                          Fulton St at Bancroft Way             37.867789   \n",
       "\n",
       "   end_station_longitude  bike_id   user_type bike_share_for_all_trip  \\\n",
       "0            -122.415929       96    Customer                     NaN   \n",
       "1            -122.426614       88    Customer                     NaN   \n",
       "2            -122.267764     1094    Customer                     NaN   \n",
       "3            -122.408445     2831    Customer                     NaN   \n",
       "4            -122.265896     3167  Subscriber                     NaN   \n",
       "\n",
       "  rental_access_method  \n",
       "0                  NaN  \n",
       "1                  NaN  \n",
       "2                  NaN  \n",
       "3                  NaN  \n",
       "4                  NaN  "
      ]
     },
     "execution_count": 7,
     "metadata": {},
     "output_type": "execute_result"
    }
   ],
   "source": [
    "df.head()"
   ]
  },
  {
   "cell_type": "code",
   "execution_count": 8,
   "metadata": {},
   "outputs": [],
   "source": [
    "#Clone master file\n",
    "df = master.copy()"
   ]
  },
  {
   "cell_type": "code",
   "execution_count": 9,
   "metadata": {
    "scrolled": true
   },
   "outputs": [
    {
     "data": {
      "text/html": [
       "<div>\n",
       "<style scoped>\n",
       "    .dataframe tbody tr th:only-of-type {\n",
       "        vertical-align: middle;\n",
       "    }\n",
       "\n",
       "    .dataframe tbody tr th {\n",
       "        vertical-align: top;\n",
       "    }\n",
       "\n",
       "    .dataframe thead th {\n",
       "        text-align: right;\n",
       "    }\n",
       "</style>\n",
       "<table border=\"1\" class=\"dataframe\">\n",
       "  <thead>\n",
       "    <tr style=\"text-align: right;\">\n",
       "      <th></th>\n",
       "      <th>duration_sec</th>\n",
       "      <th>start_time</th>\n",
       "      <th>end_time</th>\n",
       "      <th>start_station_id</th>\n",
       "      <th>start_station_name</th>\n",
       "      <th>start_station_latitude</th>\n",
       "      <th>start_station_longitude</th>\n",
       "      <th>end_station_id</th>\n",
       "      <th>end_station_name</th>\n",
       "      <th>end_station_latitude</th>\n",
       "      <th>end_station_longitude</th>\n",
       "      <th>bike_id</th>\n",
       "      <th>user_type</th>\n",
       "      <th>bike_share_for_all_trip</th>\n",
       "      <th>rental_access_method</th>\n",
       "    </tr>\n",
       "  </thead>\n",
       "  <tbody>\n",
       "    <tr>\n",
       "      <th>2007183</th>\n",
       "      <td>1116</td>\n",
       "      <td>2018-10-17 16:48:14.9070</td>\n",
       "      <td>2018-10-17 17:06:50.9150</td>\n",
       "      <td>8.0</td>\n",
       "      <td>The Embarcadero at Vallejo St</td>\n",
       "      <td>37.799953</td>\n",
       "      <td>-122.398525</td>\n",
       "      <td>67.0</td>\n",
       "      <td>San Francisco Caltrain Station 2  (Townsend St...</td>\n",
       "      <td>37.776639</td>\n",
       "      <td>-122.395526</td>\n",
       "      <td>3744</td>\n",
       "      <td>Subscriber</td>\n",
       "      <td>No</td>\n",
       "      <td>NaN</td>\n",
       "    </tr>\n",
       "    <tr>\n",
       "      <th>3699697</th>\n",
       "      <td>145</td>\n",
       "      <td>2019-07-18 08:27:58.0290</td>\n",
       "      <td>2019-07-18 08:30:23.8550</td>\n",
       "      <td>60.0</td>\n",
       "      <td>8th St at Ringold St</td>\n",
       "      <td>37.774520</td>\n",
       "      <td>-122.409449</td>\n",
       "      <td>78.0</td>\n",
       "      <td>Folsom St at 9th St</td>\n",
       "      <td>37.773717</td>\n",
       "      <td>-122.411647</td>\n",
       "      <td>3696</td>\n",
       "      <td>Subscriber</td>\n",
       "      <td>No</td>\n",
       "      <td>NaN</td>\n",
       "    </tr>\n",
       "    <tr>\n",
       "      <th>3976585</th>\n",
       "      <td>977</td>\n",
       "      <td>2019-08-19 11:21:54.6680</td>\n",
       "      <td>2019-08-19 11:38:12.4360</td>\n",
       "      <td>139.0</td>\n",
       "      <td>Garfield Square (25th St at Harrison St)</td>\n",
       "      <td>37.751017</td>\n",
       "      <td>-122.411901</td>\n",
       "      <td>36.0</td>\n",
       "      <td>Folsom St at 3rd St</td>\n",
       "      <td>37.783830</td>\n",
       "      <td>-122.398870</td>\n",
       "      <td>1973</td>\n",
       "      <td>Subscriber</td>\n",
       "      <td>No</td>\n",
       "      <td>NaN</td>\n",
       "    </tr>\n",
       "    <tr>\n",
       "      <th>542887</th>\n",
       "      <td>1218</td>\n",
       "      <td>2018-01-25 17:24:08.8990</td>\n",
       "      <td>2018-01-25 17:44:27.3450</td>\n",
       "      <td>16.0</td>\n",
       "      <td>Steuart St at Market St</td>\n",
       "      <td>37.794130</td>\n",
       "      <td>-122.394430</td>\n",
       "      <td>116.0</td>\n",
       "      <td>Mississippi St at 17th St</td>\n",
       "      <td>37.764802</td>\n",
       "      <td>-122.394771</td>\n",
       "      <td>2611</td>\n",
       "      <td>Subscriber</td>\n",
       "      <td>No</td>\n",
       "      <td>NaN</td>\n",
       "    </tr>\n",
       "    <tr>\n",
       "      <th>3172658</th>\n",
       "      <td>343</td>\n",
       "      <td>2019-04-09 16:29:35.6840</td>\n",
       "      <td>2019-04-09 16:35:19.6620</td>\n",
       "      <td>81.0</td>\n",
       "      <td>Berry St at 4th St</td>\n",
       "      <td>37.775880</td>\n",
       "      <td>-122.393170</td>\n",
       "      <td>27.0</td>\n",
       "      <td>Beale St at Harrison St</td>\n",
       "      <td>37.788059</td>\n",
       "      <td>-122.391865</td>\n",
       "      <td>5550</td>\n",
       "      <td>Subscriber</td>\n",
       "      <td>No</td>\n",
       "      <td>NaN</td>\n",
       "    </tr>\n",
       "  </tbody>\n",
       "</table>\n",
       "</div>"
      ],
      "text/plain": [
       "         duration_sec                start_time                  end_time  \\\n",
       "2007183          1116  2018-10-17 16:48:14.9070  2018-10-17 17:06:50.9150   \n",
       "3699697           145  2019-07-18 08:27:58.0290  2019-07-18 08:30:23.8550   \n",
       "3976585           977  2019-08-19 11:21:54.6680  2019-08-19 11:38:12.4360   \n",
       "542887           1218  2018-01-25 17:24:08.8990  2018-01-25 17:44:27.3450   \n",
       "3172658           343  2019-04-09 16:29:35.6840  2019-04-09 16:35:19.6620   \n",
       "\n",
       "         start_station_id                        start_station_name  \\\n",
       "2007183               8.0             The Embarcadero at Vallejo St   \n",
       "3699697              60.0                      8th St at Ringold St   \n",
       "3976585             139.0  Garfield Square (25th St at Harrison St)   \n",
       "542887               16.0                   Steuart St at Market St   \n",
       "3172658              81.0                        Berry St at 4th St   \n",
       "\n",
       "         start_station_latitude  start_station_longitude  end_station_id  \\\n",
       "2007183               37.799953              -122.398525            67.0   \n",
       "3699697               37.774520              -122.409449            78.0   \n",
       "3976585               37.751017              -122.411901            36.0   \n",
       "542887                37.794130              -122.394430           116.0   \n",
       "3172658               37.775880              -122.393170            27.0   \n",
       "\n",
       "                                          end_station_name  \\\n",
       "2007183  San Francisco Caltrain Station 2  (Townsend St...   \n",
       "3699697                                Folsom St at 9th St   \n",
       "3976585                                Folsom St at 3rd St   \n",
       "542887                           Mississippi St at 17th St   \n",
       "3172658                            Beale St at Harrison St   \n",
       "\n",
       "         end_station_latitude  end_station_longitude  bike_id   user_type  \\\n",
       "2007183             37.776639            -122.395526     3744  Subscriber   \n",
       "3699697             37.773717            -122.411647     3696  Subscriber   \n",
       "3976585             37.783830            -122.398870     1973  Subscriber   \n",
       "542887              37.764802            -122.394771     2611  Subscriber   \n",
       "3172658             37.788059            -122.391865     5550  Subscriber   \n",
       "\n",
       "        bike_share_for_all_trip rental_access_method  \n",
       "2007183                      No                  NaN  \n",
       "3699697                      No                  NaN  \n",
       "3976585                      No                  NaN  \n",
       "542887                       No                  NaN  \n",
       "3172658                      No                  NaN  "
      ]
     },
     "execution_count": 9,
     "metadata": {},
     "output_type": "execute_result"
    }
   ],
   "source": [
    "#Ensure dataframe is working\n",
    "df.sample(5)"
   ]
  },
  {
   "cell_type": "markdown",
   "metadata": {},
   "source": [
    "## Assessing"
   ]
  },
  {
   "cell_type": "code",
   "execution_count": 10,
   "metadata": {
    "scrolled": true
   },
   "outputs": [
    {
     "name": "stdout",
     "output_type": "stream",
     "text": [
      "<class 'pandas.core.frame.DataFrame'>\n",
      "RangeIndex: 4740302 entries, 0 to 4740301\n",
      "Data columns (total 15 columns):\n",
      "duration_sec               4740302 non-null int64\n",
      "start_time                 4740302 non-null object\n",
      "end_time                   4740302 non-null object\n",
      "start_station_id           4668816 non-null float64\n",
      "start_station_name         4669413 non-null object\n",
      "start_station_latitude     4740302 non-null float64\n",
      "start_station_longitude    4740302 non-null float64\n",
      "end_station_id             4666976 non-null float64\n",
      "end_station_name           4667526 non-null object\n",
      "end_station_latitude       4740302 non-null float64\n",
      "end_station_longitude      4740302 non-null float64\n",
      "bike_id                    4740302 non-null int64\n",
      "user_type                  4740302 non-null object\n",
      "bike_share_for_all_trip    4127445 non-null object\n",
      "rental_access_method       93157 non-null object\n",
      "dtypes: float64(6), int64(2), object(7)\n",
      "memory usage: 542.5+ MB\n"
     ]
    }
   ],
   "source": [
    "df.info(null_counts = True)"
   ]
  },
  {
   "cell_type": "code",
   "execution_count": 11,
   "metadata": {
    "scrolled": true
   },
   "outputs": [
    {
     "data": {
      "text/plain": [
       "(array(['Customer', 'Subscriber'], dtype=object),\n",
       " array([nan, 'No', 'Yes'], dtype=object),\n",
       " array([nan, 'app', 'clipper'], dtype=object))"
      ]
     },
     "execution_count": 11,
     "metadata": {},
     "output_type": "execute_result"
    }
   ],
   "source": [
    "df.user_type.unique(), df.bike_share_for_all_trip.unique(), df.rental_access_method.unique()"
   ]
  },
  {
   "cell_type": "code",
   "execution_count": 12,
   "metadata": {
    "scrolled": true
   },
   "outputs": [
    {
     "data": {
      "text/plain": [
       "count    12109.000000\n",
       "mean       391.469320\n",
       "std        436.445047\n",
       "min          1.000000\n",
       "25%         74.000000\n",
       "50%        193.000000\n",
       "75%        610.000000\n",
       "max       2000.000000\n",
       "Name: bike_id, dtype: float64"
      ]
     },
     "execution_count": 12,
     "metadata": {},
     "output_type": "execute_result"
    }
   ],
   "source": [
    "df.bike_id.value_counts().describe()"
   ]
  },
  {
   "cell_type": "code",
   "execution_count": 13,
   "metadata": {
    "scrolled": true
   },
   "outputs": [
    {
     "data": {
      "text/html": [
       "<div>\n",
       "<style scoped>\n",
       "    .dataframe tbody tr th:only-of-type {\n",
       "        vertical-align: middle;\n",
       "    }\n",
       "\n",
       "    .dataframe tbody tr th {\n",
       "        vertical-align: top;\n",
       "    }\n",
       "\n",
       "    .dataframe thead th {\n",
       "        text-align: right;\n",
       "    }\n",
       "</style>\n",
       "<table border=\"1\" class=\"dataframe\">\n",
       "  <thead>\n",
       "    <tr style=\"text-align: right;\">\n",
       "      <th></th>\n",
       "      <th>duration_sec</th>\n",
       "      <th>start_time</th>\n",
       "      <th>end_time</th>\n",
       "      <th>start_station_id</th>\n",
       "      <th>start_station_name</th>\n",
       "      <th>start_station_latitude</th>\n",
       "      <th>start_station_longitude</th>\n",
       "      <th>end_station_id</th>\n",
       "      <th>end_station_name</th>\n",
       "      <th>end_station_latitude</th>\n",
       "      <th>end_station_longitude</th>\n",
       "      <th>bike_id</th>\n",
       "      <th>user_type</th>\n",
       "      <th>bike_share_for_all_trip</th>\n",
       "      <th>rental_access_method</th>\n",
       "    </tr>\n",
       "  </thead>\n",
       "  <tbody>\n",
       "    <tr>\n",
       "      <th>0</th>\n",
       "      <td>80110</td>\n",
       "      <td>2017-12-31 16:57:39.6540</td>\n",
       "      <td>2018-01-01 15:12:50.2450</td>\n",
       "      <td>74.0</td>\n",
       "      <td>Laguna St at Hayes St</td>\n",
       "      <td>37.776435</td>\n",
       "      <td>-122.426244</td>\n",
       "      <td>43.0</td>\n",
       "      <td>San Francisco Public Library (Grove St at Hyde...</td>\n",
       "      <td>37.778768</td>\n",
       "      <td>-122.415929</td>\n",
       "      <td>96</td>\n",
       "      <td>Customer</td>\n",
       "      <td>NaN</td>\n",
       "      <td>NaN</td>\n",
       "    </tr>\n",
       "    <tr>\n",
       "      <th>1</th>\n",
       "      <td>78800</td>\n",
       "      <td>2017-12-31 15:56:34.8420</td>\n",
       "      <td>2018-01-01 13:49:55.6170</td>\n",
       "      <td>284.0</td>\n",
       "      <td>Yerba Buena Center for the Arts (Howard St at ...</td>\n",
       "      <td>37.784872</td>\n",
       "      <td>-122.400876</td>\n",
       "      <td>96.0</td>\n",
       "      <td>Dolores St at 15th St</td>\n",
       "      <td>37.766210</td>\n",
       "      <td>-122.426614</td>\n",
       "      <td>88</td>\n",
       "      <td>Customer</td>\n",
       "      <td>NaN</td>\n",
       "      <td>NaN</td>\n",
       "    </tr>\n",
       "    <tr>\n",
       "      <th>2</th>\n",
       "      <td>45768</td>\n",
       "      <td>2017-12-31 22:45:48.4110</td>\n",
       "      <td>2018-01-01 11:28:36.8830</td>\n",
       "      <td>245.0</td>\n",
       "      <td>Downtown Berkeley BART</td>\n",
       "      <td>37.870348</td>\n",
       "      <td>-122.267764</td>\n",
       "      <td>245.0</td>\n",
       "      <td>Downtown Berkeley BART</td>\n",
       "      <td>37.870348</td>\n",
       "      <td>-122.267764</td>\n",
       "      <td>1094</td>\n",
       "      <td>Customer</td>\n",
       "      <td>NaN</td>\n",
       "      <td>NaN</td>\n",
       "    </tr>\n",
       "    <tr>\n",
       "      <th>3</th>\n",
       "      <td>62172</td>\n",
       "      <td>2017-12-31 17:31:10.6360</td>\n",
       "      <td>2018-01-01 10:47:23.5310</td>\n",
       "      <td>60.0</td>\n",
       "      <td>8th St at Ringold St</td>\n",
       "      <td>37.774520</td>\n",
       "      <td>-122.409449</td>\n",
       "      <td>5.0</td>\n",
       "      <td>Powell St BART Station (Market St at 5th St)</td>\n",
       "      <td>37.783899</td>\n",
       "      <td>-122.408445</td>\n",
       "      <td>2831</td>\n",
       "      <td>Customer</td>\n",
       "      <td>NaN</td>\n",
       "      <td>NaN</td>\n",
       "    </tr>\n",
       "    <tr>\n",
       "      <th>4</th>\n",
       "      <td>43603</td>\n",
       "      <td>2017-12-31 14:23:14.0010</td>\n",
       "      <td>2018-01-01 02:29:57.5710</td>\n",
       "      <td>239.0</td>\n",
       "      <td>Bancroft Way at Telegraph Ave</td>\n",
       "      <td>37.868813</td>\n",
       "      <td>-122.258764</td>\n",
       "      <td>247.0</td>\n",
       "      <td>Fulton St at Bancroft Way</td>\n",
       "      <td>37.867789</td>\n",
       "      <td>-122.265896</td>\n",
       "      <td>3167</td>\n",
       "      <td>Subscriber</td>\n",
       "      <td>NaN</td>\n",
       "      <td>NaN</td>\n",
       "    </tr>\n",
       "  </tbody>\n",
       "</table>\n",
       "</div>"
      ],
      "text/plain": [
       "   duration_sec                start_time                  end_time  \\\n",
       "0         80110  2017-12-31 16:57:39.6540  2018-01-01 15:12:50.2450   \n",
       "1         78800  2017-12-31 15:56:34.8420  2018-01-01 13:49:55.6170   \n",
       "2         45768  2017-12-31 22:45:48.4110  2018-01-01 11:28:36.8830   \n",
       "3         62172  2017-12-31 17:31:10.6360  2018-01-01 10:47:23.5310   \n",
       "4         43603  2017-12-31 14:23:14.0010  2018-01-01 02:29:57.5710   \n",
       "\n",
       "   start_station_id                                 start_station_name  \\\n",
       "0              74.0                              Laguna St at Hayes St   \n",
       "1             284.0  Yerba Buena Center for the Arts (Howard St at ...   \n",
       "2             245.0                             Downtown Berkeley BART   \n",
       "3              60.0                               8th St at Ringold St   \n",
       "4             239.0                      Bancroft Way at Telegraph Ave   \n",
       "\n",
       "   start_station_latitude  start_station_longitude  end_station_id  \\\n",
       "0               37.776435              -122.426244            43.0   \n",
       "1               37.784872              -122.400876            96.0   \n",
       "2               37.870348              -122.267764           245.0   \n",
       "3               37.774520              -122.409449             5.0   \n",
       "4               37.868813              -122.258764           247.0   \n",
       "\n",
       "                                    end_station_name  end_station_latitude  \\\n",
       "0  San Francisco Public Library (Grove St at Hyde...             37.778768   \n",
       "1                              Dolores St at 15th St             37.766210   \n",
       "2                             Downtown Berkeley BART             37.870348   \n",
       "3       Powell St BART Station (Market St at 5th St)             37.783899   \n",
       "4                          Fulton St at Bancroft Way             37.867789   \n",
       "\n",
       "   end_station_longitude  bike_id   user_type bike_share_for_all_trip  \\\n",
       "0            -122.415929       96    Customer                     NaN   \n",
       "1            -122.426614       88    Customer                     NaN   \n",
       "2            -122.267764     1094    Customer                     NaN   \n",
       "3            -122.408445     2831    Customer                     NaN   \n",
       "4            -122.265896     3167  Subscriber                     NaN   \n",
       "\n",
       "  rental_access_method  \n",
       "0                  NaN  \n",
       "1                  NaN  \n",
       "2                  NaN  \n",
       "3                  NaN  \n",
       "4                  NaN  "
      ]
     },
     "execution_count": 13,
     "metadata": {},
     "output_type": "execute_result"
    }
   ],
   "source": [
    "df.head()"
   ]
  },
  {
   "cell_type": "code",
   "execution_count": 14,
   "metadata": {},
   "outputs": [
    {
     "data": {
      "text/html": [
       "<div>\n",
       "<style scoped>\n",
       "    .dataframe tbody tr th:only-of-type {\n",
       "        vertical-align: middle;\n",
       "    }\n",
       "\n",
       "    .dataframe tbody tr th {\n",
       "        vertical-align: top;\n",
       "    }\n",
       "\n",
       "    .dataframe thead th {\n",
       "        text-align: right;\n",
       "    }\n",
       "</style>\n",
       "<table border=\"1\" class=\"dataframe\">\n",
       "  <thead>\n",
       "    <tr style=\"text-align: right;\">\n",
       "      <th></th>\n",
       "      <th>duration_sec</th>\n",
       "      <th>start_time</th>\n",
       "      <th>end_time</th>\n",
       "      <th>start_station_id</th>\n",
       "      <th>start_station_name</th>\n",
       "      <th>start_station_latitude</th>\n",
       "      <th>start_station_longitude</th>\n",
       "      <th>end_station_id</th>\n",
       "      <th>end_station_name</th>\n",
       "      <th>end_station_latitude</th>\n",
       "      <th>end_station_longitude</th>\n",
       "      <th>bike_id</th>\n",
       "      <th>user_type</th>\n",
       "      <th>bike_share_for_all_trip</th>\n",
       "      <th>rental_access_method</th>\n",
       "    </tr>\n",
       "  </thead>\n",
       "  <tbody>\n",
       "    <tr>\n",
       "      <th>3016391</th>\n",
       "      <td>2365</td>\n",
       "      <td>2019-04-30 18:21:42.6100</td>\n",
       "      <td>2019-04-30 19:01:08.1460</td>\n",
       "      <td>50.0</td>\n",
       "      <td>2nd St at Townsend St</td>\n",
       "      <td>37.780526</td>\n",
       "      <td>-122.390288</td>\n",
       "      <td>420.0</td>\n",
       "      <td>SF Test Station</td>\n",
       "      <td>0.0</td>\n",
       "      <td>0.0</td>\n",
       "      <td>1612</td>\n",
       "      <td>Subscriber</td>\n",
       "      <td>No</td>\n",
       "      <td>NaN</td>\n",
       "    </tr>\n",
       "    <tr>\n",
       "      <th>3017157</th>\n",
       "      <td>1964</td>\n",
       "      <td>2019-04-30 17:31:19.6460</td>\n",
       "      <td>2019-04-30 18:04:04.5180</td>\n",
       "      <td>98.0</td>\n",
       "      <td>Valencia St at 16th St</td>\n",
       "      <td>37.765052</td>\n",
       "      <td>-122.421866</td>\n",
       "      <td>420.0</td>\n",
       "      <td>SF Test Station</td>\n",
       "      <td>0.0</td>\n",
       "      <td>0.0</td>\n",
       "      <td>3507</td>\n",
       "      <td>Subscriber</td>\n",
       "      <td>No</td>\n",
       "      <td>NaN</td>\n",
       "    </tr>\n",
       "    <tr>\n",
       "      <th>3017311</th>\n",
       "      <td>546</td>\n",
       "      <td>2019-04-30 17:45:38.4520</td>\n",
       "      <td>2019-04-30 17:54:45.2580</td>\n",
       "      <td>370.0</td>\n",
       "      <td>Jones St at Post St</td>\n",
       "      <td>37.787327</td>\n",
       "      <td>-122.413278</td>\n",
       "      <td>420.0</td>\n",
       "      <td>SF Test Station</td>\n",
       "      <td>0.0</td>\n",
       "      <td>0.0</td>\n",
       "      <td>1142</td>\n",
       "      <td>Subscriber</td>\n",
       "      <td>Yes</td>\n",
       "      <td>NaN</td>\n",
       "    </tr>\n",
       "    <tr>\n",
       "      <th>3017390</th>\n",
       "      <td>630</td>\n",
       "      <td>2019-04-30 17:39:33.5070</td>\n",
       "      <td>2019-04-30 17:50:04.3140</td>\n",
       "      <td>21.0</td>\n",
       "      <td>Montgomery St BART Station (Market St at 2nd St)</td>\n",
       "      <td>37.789625</td>\n",
       "      <td>-122.400811</td>\n",
       "      <td>420.0</td>\n",
       "      <td>SF Test Station</td>\n",
       "      <td>0.0</td>\n",
       "      <td>0.0</td>\n",
       "      <td>3500</td>\n",
       "      <td>Subscriber</td>\n",
       "      <td>No</td>\n",
       "      <td>NaN</td>\n",
       "    </tr>\n",
       "    <tr>\n",
       "      <th>3017843</th>\n",
       "      <td>433</td>\n",
       "      <td>2019-04-30 17:17:10.4860</td>\n",
       "      <td>2019-04-30 17:24:23.9190</td>\n",
       "      <td>11.0</td>\n",
       "      <td>Davis St at Jackson St</td>\n",
       "      <td>37.797280</td>\n",
       "      <td>-122.398436</td>\n",
       "      <td>420.0</td>\n",
       "      <td>SF Test Station</td>\n",
       "      <td>0.0</td>\n",
       "      <td>0.0</td>\n",
       "      <td>1181</td>\n",
       "      <td>Subscriber</td>\n",
       "      <td>No</td>\n",
       "      <td>NaN</td>\n",
       "    </tr>\n",
       "  </tbody>\n",
       "</table>\n",
       "</div>"
      ],
      "text/plain": [
       "         duration_sec                start_time                  end_time  \\\n",
       "3016391          2365  2019-04-30 18:21:42.6100  2019-04-30 19:01:08.1460   \n",
       "3017157          1964  2019-04-30 17:31:19.6460  2019-04-30 18:04:04.5180   \n",
       "3017311           546  2019-04-30 17:45:38.4520  2019-04-30 17:54:45.2580   \n",
       "3017390           630  2019-04-30 17:39:33.5070  2019-04-30 17:50:04.3140   \n",
       "3017843           433  2019-04-30 17:17:10.4860  2019-04-30 17:24:23.9190   \n",
       "\n",
       "         start_station_id                                start_station_name  \\\n",
       "3016391              50.0                             2nd St at Townsend St   \n",
       "3017157              98.0                            Valencia St at 16th St   \n",
       "3017311             370.0                               Jones St at Post St   \n",
       "3017390              21.0  Montgomery St BART Station (Market St at 2nd St)   \n",
       "3017843              11.0                            Davis St at Jackson St   \n",
       "\n",
       "         start_station_latitude  start_station_longitude  end_station_id  \\\n",
       "3016391               37.780526              -122.390288           420.0   \n",
       "3017157               37.765052              -122.421866           420.0   \n",
       "3017311               37.787327              -122.413278           420.0   \n",
       "3017390               37.789625              -122.400811           420.0   \n",
       "3017843               37.797280              -122.398436           420.0   \n",
       "\n",
       "        end_station_name  end_station_latitude  end_station_longitude  \\\n",
       "3016391  SF Test Station                   0.0                    0.0   \n",
       "3017157  SF Test Station                   0.0                    0.0   \n",
       "3017311  SF Test Station                   0.0                    0.0   \n",
       "3017390  SF Test Station                   0.0                    0.0   \n",
       "3017843  SF Test Station                   0.0                    0.0   \n",
       "\n",
       "         bike_id   user_type bike_share_for_all_trip rental_access_method  \n",
       "3016391     1612  Subscriber                      No                  NaN  \n",
       "3017157     3507  Subscriber                      No                  NaN  \n",
       "3017311     1142  Subscriber                     Yes                  NaN  \n",
       "3017390     3500  Subscriber                      No                  NaN  \n",
       "3017843     1181  Subscriber                      No                  NaN  "
      ]
     },
     "execution_count": 14,
     "metadata": {},
     "output_type": "execute_result"
    }
   ],
   "source": [
    "#Check for missing coordinates\n",
    "df.query('start_station_latitude == 0 | end_station_latitude ==0').head()"
   ]
  },
  {
   "cell_type": "code",
   "execution_count": 15,
   "metadata": {},
   "outputs": [
    {
     "data": {
      "text/html": [
       "<div>\n",
       "<style scoped>\n",
       "    .dataframe tbody tr th:only-of-type {\n",
       "        vertical-align: middle;\n",
       "    }\n",
       "\n",
       "    .dataframe tbody tr th {\n",
       "        vertical-align: top;\n",
       "    }\n",
       "\n",
       "    .dataframe thead th {\n",
       "        text-align: right;\n",
       "    }\n",
       "</style>\n",
       "<table border=\"1\" class=\"dataframe\">\n",
       "  <thead>\n",
       "    <tr style=\"text-align: right;\">\n",
       "      <th></th>\n",
       "      <th>duration_sec</th>\n",
       "      <th>start_time</th>\n",
       "      <th>end_time</th>\n",
       "      <th>start_station_id</th>\n",
       "      <th>start_station_name</th>\n",
       "      <th>start_station_latitude</th>\n",
       "      <th>start_station_longitude</th>\n",
       "      <th>end_station_id</th>\n",
       "      <th>end_station_name</th>\n",
       "      <th>end_station_latitude</th>\n",
       "      <th>end_station_longitude</th>\n",
       "      <th>bike_id</th>\n",
       "      <th>user_type</th>\n",
       "      <th>bike_share_for_all_trip</th>\n",
       "      <th>rental_access_method</th>\n",
       "    </tr>\n",
       "  </thead>\n",
       "  <tbody>\n",
       "    <tr>\n",
       "      <th>1143064</th>\n",
       "      <td>5572</td>\n",
       "      <td>2018-06-30 20:58:31.8550</td>\n",
       "      <td>2018-06-30 22:31:24.5930</td>\n",
       "      <td>NaN</td>\n",
       "      <td>NaN</td>\n",
       "      <td>37.40</td>\n",
       "      <td>-121.94</td>\n",
       "      <td>NaN</td>\n",
       "      <td>NaN</td>\n",
       "      <td>37.40</td>\n",
       "      <td>-121.94</td>\n",
       "      <td>4202</td>\n",
       "      <td>Customer</td>\n",
       "      <td>No</td>\n",
       "      <td>NaN</td>\n",
       "    </tr>\n",
       "    <tr>\n",
       "      <th>1143076</th>\n",
       "      <td>573</td>\n",
       "      <td>2018-06-30 22:12:27.5110</td>\n",
       "      <td>2018-06-30 22:22:01.1740</td>\n",
       "      <td>NaN</td>\n",
       "      <td>NaN</td>\n",
       "      <td>37.40</td>\n",
       "      <td>-121.94</td>\n",
       "      <td>NaN</td>\n",
       "      <td>NaN</td>\n",
       "      <td>37.40</td>\n",
       "      <td>-121.93</td>\n",
       "      <td>4095</td>\n",
       "      <td>Subscriber</td>\n",
       "      <td>Yes</td>\n",
       "      <td>NaN</td>\n",
       "    </tr>\n",
       "    <tr>\n",
       "      <th>1143093</th>\n",
       "      <td>850</td>\n",
       "      <td>2018-06-30 22:01:25.5850</td>\n",
       "      <td>2018-06-30 22:15:36.1510</td>\n",
       "      <td>NaN</td>\n",
       "      <td>NaN</td>\n",
       "      <td>37.41</td>\n",
       "      <td>-121.94</td>\n",
       "      <td>NaN</td>\n",
       "      <td>NaN</td>\n",
       "      <td>37.41</td>\n",
       "      <td>-121.95</td>\n",
       "      <td>4122</td>\n",
       "      <td>Customer</td>\n",
       "      <td>No</td>\n",
       "      <td>NaN</td>\n",
       "    </tr>\n",
       "    <tr>\n",
       "      <th>1143129</th>\n",
       "      <td>562</td>\n",
       "      <td>2018-06-30 21:52:05.1180</td>\n",
       "      <td>2018-06-30 22:01:27.4400</td>\n",
       "      <td>NaN</td>\n",
       "      <td>NaN</td>\n",
       "      <td>37.41</td>\n",
       "      <td>-121.94</td>\n",
       "      <td>NaN</td>\n",
       "      <td>NaN</td>\n",
       "      <td>37.42</td>\n",
       "      <td>-121.94</td>\n",
       "      <td>4184</td>\n",
       "      <td>Subscriber</td>\n",
       "      <td>No</td>\n",
       "      <td>NaN</td>\n",
       "    </tr>\n",
       "    <tr>\n",
       "      <th>1143156</th>\n",
       "      <td>819</td>\n",
       "      <td>2018-06-30 21:37:34.5060</td>\n",
       "      <td>2018-06-30 21:51:13.7290</td>\n",
       "      <td>NaN</td>\n",
       "      <td>NaN</td>\n",
       "      <td>37.41</td>\n",
       "      <td>-121.94</td>\n",
       "      <td>NaN</td>\n",
       "      <td>NaN</td>\n",
       "      <td>37.41</td>\n",
       "      <td>-121.96</td>\n",
       "      <td>4137</td>\n",
       "      <td>Customer</td>\n",
       "      <td>No</td>\n",
       "      <td>NaN</td>\n",
       "    </tr>\n",
       "  </tbody>\n",
       "</table>\n",
       "</div>"
      ],
      "text/plain": [
       "         duration_sec                start_time                  end_time  \\\n",
       "1143064          5572  2018-06-30 20:58:31.8550  2018-06-30 22:31:24.5930   \n",
       "1143076           573  2018-06-30 22:12:27.5110  2018-06-30 22:22:01.1740   \n",
       "1143093           850  2018-06-30 22:01:25.5850  2018-06-30 22:15:36.1510   \n",
       "1143129           562  2018-06-30 21:52:05.1180  2018-06-30 22:01:27.4400   \n",
       "1143156           819  2018-06-30 21:37:34.5060  2018-06-30 21:51:13.7290   \n",
       "\n",
       "         start_station_id start_station_name  start_station_latitude  \\\n",
       "1143064               NaN                NaN                   37.40   \n",
       "1143076               NaN                NaN                   37.40   \n",
       "1143093               NaN                NaN                   37.41   \n",
       "1143129               NaN                NaN                   37.41   \n",
       "1143156               NaN                NaN                   37.41   \n",
       "\n",
       "         start_station_longitude  end_station_id end_station_name  \\\n",
       "1143064                  -121.94             NaN              NaN   \n",
       "1143076                  -121.94             NaN              NaN   \n",
       "1143093                  -121.94             NaN              NaN   \n",
       "1143129                  -121.94             NaN              NaN   \n",
       "1143156                  -121.94             NaN              NaN   \n",
       "\n",
       "         end_station_latitude  end_station_longitude  bike_id   user_type  \\\n",
       "1143064                 37.40                -121.94     4202    Customer   \n",
       "1143076                 37.40                -121.93     4095  Subscriber   \n",
       "1143093                 37.41                -121.95     4122    Customer   \n",
       "1143129                 37.42                -121.94     4184  Subscriber   \n",
       "1143156                 37.41                -121.96     4137    Customer   \n",
       "\n",
       "        bike_share_for_all_trip rental_access_method  \n",
       "1143064                      No                  NaN  \n",
       "1143076                     Yes                  NaN  \n",
       "1143093                      No                  NaN  \n",
       "1143129                      No                  NaN  \n",
       "1143156                      No                  NaN  "
      ]
     },
     "execution_count": 15,
     "metadata": {},
     "output_type": "execute_result"
    }
   ],
   "source": [
    "#Check for missing station id\n",
    "df[df.end_station_id.isnull()|df.start_station_id.isnull()].head()"
   ]
  },
  {
   "cell_type": "markdown",
   "metadata": {},
   "source": [
    "### Action Plan\n",
    "\n",
    "#### Quality Related\n",
    "- Convert *start_time* and *end_time* to datefime\n",
    "- Convert *start_station_id*, *end_station_id* and *bike_id* to strings\n",
    "- Remove entries with missing station id\n",
    "\n",
    "#### Tidiness Related\n",
    "- Create new duration column in minutes\n",
    "- Create new datetime columns\n",
    "- Calculate distance based off coordinates (latitude and longitude)\n",
    "- Create bins based on time of usage (Morning, Afternoon, Evening, Night)"
   ]
  },
  {
   "cell_type": "markdown",
   "metadata": {},
   "source": [
    "## Cleaning"
   ]
  },
  {
   "cell_type": "markdown",
   "metadata": {},
   "source": [
    "### Convert *start_time* and *end_time* to datefime"
   ]
  },
  {
   "cell_type": "code",
   "execution_count": 16,
   "metadata": {},
   "outputs": [],
   "source": [
    "df['start_time'] = pd.to_datetime(df['start_time'])\n",
    "df['end_time'] = pd.to_datetime(df['end_time'])"
   ]
  },
  {
   "cell_type": "markdown",
   "metadata": {},
   "source": [
    "### Convert *start_station_id*, *end_station_id* and *bike_id* to strings"
   ]
  },
  {
   "cell_type": "code",
   "execution_count": 17,
   "metadata": {},
   "outputs": [],
   "source": [
    "df['start_station_id'] = df['start_station_id'].astype(str).str.replace('\\.0','')\n",
    "df['end_station_id'] = df['end_station_id'].astype(str).str.replace('\\.0','')\n",
    "df['bike_id'] = df['bike_id'].astype(str)"
   ]
  },
  {
   "cell_type": "markdown",
   "metadata": {},
   "source": [
    "**Test**"
   ]
  },
  {
   "cell_type": "code",
   "execution_count": 18,
   "metadata": {},
   "outputs": [
    {
     "name": "stdout",
     "output_type": "stream",
     "text": [
      "<class 'pandas.core.frame.DataFrame'>\n",
      "RangeIndex: 4740302 entries, 0 to 4740301\n",
      "Data columns (total 15 columns):\n",
      "duration_sec               int64\n",
      "start_time                 datetime64[ns]\n",
      "end_time                   datetime64[ns]\n",
      "start_station_id           object\n",
      "start_station_name         object\n",
      "start_station_latitude     float64\n",
      "start_station_longitude    float64\n",
      "end_station_id             object\n",
      "end_station_name           object\n",
      "end_station_latitude       float64\n",
      "end_station_longitude      float64\n",
      "bike_id                    object\n",
      "user_type                  object\n",
      "bike_share_for_all_trip    object\n",
      "rental_access_method       object\n",
      "dtypes: datetime64[ns](2), float64(4), int64(1), object(8)\n",
      "memory usage: 542.5+ MB\n"
     ]
    }
   ],
   "source": [
    "df.info()"
   ]
  },
  {
   "cell_type": "markdown",
   "metadata": {},
   "source": [
    "### Remove entries with missing station id and station name"
   ]
  },
  {
   "cell_type": "code",
   "execution_count": 19,
   "metadata": {
    "scrolled": true
   },
   "outputs": [],
   "source": [
    "df.dropna(subset=['start_station_id', 'end_station_id', 'start_station_name', 'end_station_name'], inplace=True)"
   ]
  },
  {
   "cell_type": "markdown",
   "metadata": {},
   "source": [
    "**Test**"
   ]
  },
  {
   "cell_type": "code",
   "execution_count": 20,
   "metadata": {
    "scrolled": false
   },
   "outputs": [
    {
     "data": {
      "text/html": [
       "<div>\n",
       "<style scoped>\n",
       "    .dataframe tbody tr th:only-of-type {\n",
       "        vertical-align: middle;\n",
       "    }\n",
       "\n",
       "    .dataframe tbody tr th {\n",
       "        vertical-align: top;\n",
       "    }\n",
       "\n",
       "    .dataframe thead th {\n",
       "        text-align: right;\n",
       "    }\n",
       "</style>\n",
       "<table border=\"1\" class=\"dataframe\">\n",
       "  <thead>\n",
       "    <tr style=\"text-align: right;\">\n",
       "      <th></th>\n",
       "      <th>duration_sec</th>\n",
       "      <th>start_time</th>\n",
       "      <th>end_time</th>\n",
       "      <th>start_station_id</th>\n",
       "      <th>start_station_name</th>\n",
       "      <th>start_station_latitude</th>\n",
       "      <th>start_station_longitude</th>\n",
       "      <th>end_station_id</th>\n",
       "      <th>end_station_name</th>\n",
       "      <th>end_station_latitude</th>\n",
       "      <th>end_station_longitude</th>\n",
       "      <th>bike_id</th>\n",
       "      <th>user_type</th>\n",
       "      <th>bike_share_for_all_trip</th>\n",
       "      <th>rental_access_method</th>\n",
       "    </tr>\n",
       "  </thead>\n",
       "  <tbody>\n",
       "  </tbody>\n",
       "</table>\n",
       "</div>"
      ],
      "text/plain": [
       "Empty DataFrame\n",
       "Columns: [duration_sec, start_time, end_time, start_station_id, start_station_name, start_station_latitude, start_station_longitude, end_station_id, end_station_name, end_station_latitude, end_station_longitude, bike_id, user_type, bike_share_for_all_trip, rental_access_method]\n",
       "Index: []"
      ]
     },
     "execution_count": 20,
     "metadata": {},
     "output_type": "execute_result"
    }
   ],
   "source": [
    "df[df.end_station_id.isnull()|df.start_station_id.isnull()|df.start_station_name.isnull()|df.end_station_name.isnull()].head()"
   ]
  },
  {
   "cell_type": "markdown",
   "metadata": {},
   "source": [
    "### Create new duration column in minutes"
   ]
  },
  {
   "cell_type": "code",
   "execution_count": 21,
   "metadata": {},
   "outputs": [],
   "source": [
    "df['duration_min'] = (df.duration_sec/60).round(2)"
   ]
  },
  {
   "cell_type": "markdown",
   "metadata": {},
   "source": [
    "### Create new datetime columns"
   ]
  },
  {
   "cell_type": "code",
   "execution_count": 22,
   "metadata": {
    "scrolled": true
   },
   "outputs": [],
   "source": [
    "df['start_year'] = df.start_time.dt.year\n",
    "df['start_month'] = df.start_time.dt.month\n",
    "df['start_week'] = df.start_time.dt.weekday_name\n",
    "df['start_date'] = df.start_time.dt.to_period('M')\n",
    "df['start_hour'] = df.start_time.dt.hour"
   ]
  },
  {
   "cell_type": "code",
   "execution_count": 23,
   "metadata": {},
   "outputs": [],
   "source": [
    "weekday_order = ['Monday','Tuesday','Wednesday','Thursday','Friday','Saturday','Sunday']\n",
    "classes = pd.api.types.CategoricalDtype(ordered=True, categories= weekday_order)\n",
    "df['start_week'] = df.start_week.astype(classes)"
   ]
  },
  {
   "cell_type": "markdown",
   "metadata": {},
   "source": [
    "### Calculate distance based off coordinates"
   ]
  },
  {
   "cell_type": "code",
   "execution_count": 24,
   "metadata": {},
   "outputs": [],
   "source": [
    "#Function for the Haversine Formula\n",
    "#All credit goes to @derricw: https://stackoverflow.com/a/29546836\n",
    "\n",
    "def haversine(lon1, lat1, lon2, lat2):\n",
    "    \n",
    "    \"\"\"    \n",
    "    Calculate the great circle distance between two points\n",
    "    on the earth (specified in decimal degrees)\n",
    "\n",
    "    \"\"\"\n",
    "    lon1, lat1, lon2, lat2 = map(np.radians, [lon1, lat1, lon2, lat2])\n",
    "\n",
    "    dlon = lon2 - lon1\n",
    "    dlat = lat2 - lat1\n",
    "\n",
    "    a = np.sin(dlat/2.0)**2 + np.cos(lat1) * np.cos(lat2) * np.sin(dlon/2.0)**2\n",
    "\n",
    "    c = 2 * np.arcsin(np.sqrt(a))\n",
    "    km = 6367.8 * c # Units in km.  3959.87433 for miles\n",
    "    return km"
   ]
  },
  {
   "cell_type": "code",
   "execution_count": 25,
   "metadata": {},
   "outputs": [],
   "source": [
    "#Create column\n",
    "df['distance'] = haversine(df['start_station_longitude'],df['start_station_latitude'],df['end_station_longitude'],df['end_station_latitude'])"
   ]
  },
  {
   "cell_type": "code",
   "execution_count": 26,
   "metadata": {},
   "outputs": [
    {
     "data": {
      "text/html": [
       "<div>\n",
       "<style scoped>\n",
       "    .dataframe tbody tr th:only-of-type {\n",
       "        vertical-align: middle;\n",
       "    }\n",
       "\n",
       "    .dataframe tbody tr th {\n",
       "        vertical-align: top;\n",
       "    }\n",
       "\n",
       "    .dataframe thead th {\n",
       "        text-align: right;\n",
       "    }\n",
       "</style>\n",
       "<table border=\"1\" class=\"dataframe\">\n",
       "  <thead>\n",
       "    <tr style=\"text-align: right;\">\n",
       "      <th></th>\n",
       "      <th>duration_sec</th>\n",
       "      <th>start_time</th>\n",
       "      <th>end_time</th>\n",
       "      <th>start_station_id</th>\n",
       "      <th>start_station_name</th>\n",
       "      <th>start_station_latitude</th>\n",
       "      <th>start_station_longitude</th>\n",
       "      <th>end_station_id</th>\n",
       "      <th>end_station_name</th>\n",
       "      <th>end_station_latitude</th>\n",
       "      <th>...</th>\n",
       "      <th>user_type</th>\n",
       "      <th>bike_share_for_all_trip</th>\n",
       "      <th>rental_access_method</th>\n",
       "      <th>duration_min</th>\n",
       "      <th>start_year</th>\n",
       "      <th>start_month</th>\n",
       "      <th>start_week</th>\n",
       "      <th>start_date</th>\n",
       "      <th>start_hour</th>\n",
       "      <th>distance</th>\n",
       "    </tr>\n",
       "  </thead>\n",
       "  <tbody>\n",
       "    <tr>\n",
       "      <th>3016391</th>\n",
       "      <td>2365</td>\n",
       "      <td>2019-04-30 18:21:42.610</td>\n",
       "      <td>2019-04-30 19:01:08.146</td>\n",
       "      <td>50</td>\n",
       "      <td>2nd St at Townsend St</td>\n",
       "      <td>37.780526</td>\n",
       "      <td>-122.390288</td>\n",
       "      <td>420</td>\n",
       "      <td>SF Test Station</td>\n",
       "      <td>0.0</td>\n",
       "      <td>...</td>\n",
       "      <td>Subscriber</td>\n",
       "      <td>No</td>\n",
       "      <td>NaN</td>\n",
       "      <td>39.42</td>\n",
       "      <td>2019</td>\n",
       "      <td>4</td>\n",
       "      <td>Tuesday</td>\n",
       "      <td>2019-04</td>\n",
       "      <td>18</td>\n",
       "      <td>12786.379906</td>\n",
       "    </tr>\n",
       "    <tr>\n",
       "      <th>3017157</th>\n",
       "      <td>1964</td>\n",
       "      <td>2019-04-30 17:31:19.646</td>\n",
       "      <td>2019-04-30 18:04:04.518</td>\n",
       "      <td>98</td>\n",
       "      <td>Valencia St at 16th St</td>\n",
       "      <td>37.765052</td>\n",
       "      <td>-122.421866</td>\n",
       "      <td>420</td>\n",
       "      <td>SF Test Station</td>\n",
       "      <td>0.0</td>\n",
       "      <td>...</td>\n",
       "      <td>Subscriber</td>\n",
       "      <td>No</td>\n",
       "      <td>NaN</td>\n",
       "      <td>32.73</td>\n",
       "      <td>2019</td>\n",
       "      <td>4</td>\n",
       "      <td>Tuesday</td>\n",
       "      <td>2019-04</td>\n",
       "      <td>17</td>\n",
       "      <td>12789.588682</td>\n",
       "    </tr>\n",
       "    <tr>\n",
       "      <th>3017311</th>\n",
       "      <td>546</td>\n",
       "      <td>2019-04-30 17:45:38.452</td>\n",
       "      <td>2019-04-30 17:54:45.258</td>\n",
       "      <td>370</td>\n",
       "      <td>Jones St at Post St</td>\n",
       "      <td>37.787327</td>\n",
       "      <td>-122.413278</td>\n",
       "      <td>420</td>\n",
       "      <td>SF Test Station</td>\n",
       "      <td>0.0</td>\n",
       "      <td>...</td>\n",
       "      <td>Subscriber</td>\n",
       "      <td>Yes</td>\n",
       "      <td>NaN</td>\n",
       "      <td>9.10</td>\n",
       "      <td>2019</td>\n",
       "      <td>4</td>\n",
       "      <td>Tuesday</td>\n",
       "      <td>2019-04</td>\n",
       "      <td>17</td>\n",
       "      <td>12787.988074</td>\n",
       "    </tr>\n",
       "    <tr>\n",
       "      <th>3017390</th>\n",
       "      <td>630</td>\n",
       "      <td>2019-04-30 17:39:33.507</td>\n",
       "      <td>2019-04-30 17:50:04.314</td>\n",
       "      <td>21</td>\n",
       "      <td>Montgomery St BART Station (Market St at 2nd St)</td>\n",
       "      <td>37.789625</td>\n",
       "      <td>-122.400811</td>\n",
       "      <td>420</td>\n",
       "      <td>SF Test Station</td>\n",
       "      <td>0.0</td>\n",
       "      <td>...</td>\n",
       "      <td>Subscriber</td>\n",
       "      <td>No</td>\n",
       "      <td>NaN</td>\n",
       "      <td>10.50</td>\n",
       "      <td>2019</td>\n",
       "      <td>4</td>\n",
       "      <td>Tuesday</td>\n",
       "      <td>2019-04</td>\n",
       "      <td>17</td>\n",
       "      <td>12786.874940</td>\n",
       "    </tr>\n",
       "    <tr>\n",
       "      <th>3017843</th>\n",
       "      <td>433</td>\n",
       "      <td>2019-04-30 17:17:10.486</td>\n",
       "      <td>2019-04-30 17:24:23.919</td>\n",
       "      <td>11</td>\n",
       "      <td>Davis St at Jackson St</td>\n",
       "      <td>37.797280</td>\n",
       "      <td>-122.398436</td>\n",
       "      <td>420</td>\n",
       "      <td>SF Test Station</td>\n",
       "      <td>0.0</td>\n",
       "      <td>...</td>\n",
       "      <td>Subscriber</td>\n",
       "      <td>No</td>\n",
       "      <td>NaN</td>\n",
       "      <td>7.22</td>\n",
       "      <td>2019</td>\n",
       "      <td>4</td>\n",
       "      <td>Tuesday</td>\n",
       "      <td>2019-04</td>\n",
       "      <td>17</td>\n",
       "      <td>12786.372190</td>\n",
       "    </tr>\n",
       "  </tbody>\n",
       "</table>\n",
       "<p>5 rows × 22 columns</p>\n",
       "</div>"
      ],
      "text/plain": [
       "         duration_sec              start_time                end_time  \\\n",
       "3016391          2365 2019-04-30 18:21:42.610 2019-04-30 19:01:08.146   \n",
       "3017157          1964 2019-04-30 17:31:19.646 2019-04-30 18:04:04.518   \n",
       "3017311           546 2019-04-30 17:45:38.452 2019-04-30 17:54:45.258   \n",
       "3017390           630 2019-04-30 17:39:33.507 2019-04-30 17:50:04.314   \n",
       "3017843           433 2019-04-30 17:17:10.486 2019-04-30 17:24:23.919   \n",
       "\n",
       "        start_station_id                                start_station_name  \\\n",
       "3016391               50                             2nd St at Townsend St   \n",
       "3017157               98                            Valencia St at 16th St   \n",
       "3017311              370                               Jones St at Post St   \n",
       "3017390               21  Montgomery St BART Station (Market St at 2nd St)   \n",
       "3017843               11                            Davis St at Jackson St   \n",
       "\n",
       "         start_station_latitude  start_station_longitude end_station_id  \\\n",
       "3016391               37.780526              -122.390288            420   \n",
       "3017157               37.765052              -122.421866            420   \n",
       "3017311               37.787327              -122.413278            420   \n",
       "3017390               37.789625              -122.400811            420   \n",
       "3017843               37.797280              -122.398436            420   \n",
       "\n",
       "        end_station_name  end_station_latitude      ...        user_type  \\\n",
       "3016391  SF Test Station                   0.0      ...       Subscriber   \n",
       "3017157  SF Test Station                   0.0      ...       Subscriber   \n",
       "3017311  SF Test Station                   0.0      ...       Subscriber   \n",
       "3017390  SF Test Station                   0.0      ...       Subscriber   \n",
       "3017843  SF Test Station                   0.0      ...       Subscriber   \n",
       "\n",
       "        bike_share_for_all_trip rental_access_method duration_min start_year  \\\n",
       "3016391                      No                  NaN        39.42       2019   \n",
       "3017157                      No                  NaN        32.73       2019   \n",
       "3017311                     Yes                  NaN         9.10       2019   \n",
       "3017390                      No                  NaN        10.50       2019   \n",
       "3017843                      No                  NaN         7.22       2019   \n",
       "\n",
       "         start_month  start_week  start_date start_hour      distance  \n",
       "3016391            4     Tuesday     2019-04         18  12786.379906  \n",
       "3017157            4     Tuesday     2019-04         17  12789.588682  \n",
       "3017311            4     Tuesday     2019-04         17  12787.988074  \n",
       "3017390            4     Tuesday     2019-04         17  12786.874940  \n",
       "3017843            4     Tuesday     2019-04         17  12786.372190  \n",
       "\n",
       "[5 rows x 22 columns]"
      ]
     },
     "execution_count": 26,
     "metadata": {},
     "output_type": "execute_result"
    }
   ],
   "source": [
    "#Could see that there are outliners due to missing coordinates\n",
    "df.query('start_station_latitude == 0 | end_station_latitude ==0').head()"
   ]
  },
  {
   "cell_type": "code",
   "execution_count": 27,
   "metadata": {
    "scrolled": true
   },
   "outputs": [
    {
     "data": {
      "text/html": [
       "<div>\n",
       "<style scoped>\n",
       "    .dataframe tbody tr th:only-of-type {\n",
       "        vertical-align: middle;\n",
       "    }\n",
       "\n",
       "    .dataframe tbody tr th {\n",
       "        vertical-align: top;\n",
       "    }\n",
       "\n",
       "    .dataframe thead th {\n",
       "        text-align: right;\n",
       "    }\n",
       "</style>\n",
       "<table border=\"1\" class=\"dataframe\">\n",
       "  <thead>\n",
       "    <tr style=\"text-align: right;\">\n",
       "      <th></th>\n",
       "      <th>duration_sec</th>\n",
       "      <th>start_time</th>\n",
       "      <th>end_time</th>\n",
       "      <th>start_station_id</th>\n",
       "      <th>start_station_name</th>\n",
       "      <th>start_station_latitude</th>\n",
       "      <th>start_station_longitude</th>\n",
       "      <th>end_station_id</th>\n",
       "      <th>end_station_name</th>\n",
       "      <th>end_station_latitude</th>\n",
       "      <th>...</th>\n",
       "      <th>user_type</th>\n",
       "      <th>bike_share_for_all_trip</th>\n",
       "      <th>rental_access_method</th>\n",
       "      <th>duration_min</th>\n",
       "      <th>start_year</th>\n",
       "      <th>start_month</th>\n",
       "      <th>start_week</th>\n",
       "      <th>start_date</th>\n",
       "      <th>start_hour</th>\n",
       "      <th>distance</th>\n",
       "    </tr>\n",
       "  </thead>\n",
       "  <tbody>\n",
       "    <tr>\n",
       "      <th>0</th>\n",
       "      <td>80110</td>\n",
       "      <td>2017-12-31 16:57:39.654</td>\n",
       "      <td>2018-01-01 15:12:50.245</td>\n",
       "      <td>74</td>\n",
       "      <td>Laguna St at Hayes St</td>\n",
       "      <td>37.776435</td>\n",
       "      <td>-122.426244</td>\n",
       "      <td>43</td>\n",
       "      <td>San Francisco Public Library (Grove St at Hyde...</td>\n",
       "      <td>37.778768</td>\n",
       "      <td>...</td>\n",
       "      <td>Customer</td>\n",
       "      <td>NaN</td>\n",
       "      <td>NaN</td>\n",
       "      <td>1335.17</td>\n",
       "      <td>2017</td>\n",
       "      <td>12</td>\n",
       "      <td>Sunday</td>\n",
       "      <td>2017-12</td>\n",
       "      <td>16</td>\n",
       "      <td>0.942458</td>\n",
       "    </tr>\n",
       "    <tr>\n",
       "      <th>1</th>\n",
       "      <td>78800</td>\n",
       "      <td>2017-12-31 15:56:34.842</td>\n",
       "      <td>2018-01-01 13:49:55.617</td>\n",
       "      <td>284</td>\n",
       "      <td>Yerba Buena Center for the Arts (Howard St at ...</td>\n",
       "      <td>37.784872</td>\n",
       "      <td>-122.400876</td>\n",
       "      <td>96</td>\n",
       "      <td>Dolores St at 15th St</td>\n",
       "      <td>37.766210</td>\n",
       "      <td>...</td>\n",
       "      <td>Customer</td>\n",
       "      <td>NaN</td>\n",
       "      <td>NaN</td>\n",
       "      <td>1313.33</td>\n",
       "      <td>2017</td>\n",
       "      <td>12</td>\n",
       "      <td>Sunday</td>\n",
       "      <td>2017-12</td>\n",
       "      <td>15</td>\n",
       "      <td>3.068185</td>\n",
       "    </tr>\n",
       "    <tr>\n",
       "      <th>2</th>\n",
       "      <td>45768</td>\n",
       "      <td>2017-12-31 22:45:48.411</td>\n",
       "      <td>2018-01-01 11:28:36.883</td>\n",
       "      <td>245</td>\n",
       "      <td>Downtown Berkeley BART</td>\n",
       "      <td>37.870348</td>\n",
       "      <td>-122.267764</td>\n",
       "      <td>245</td>\n",
       "      <td>Downtown Berkeley BART</td>\n",
       "      <td>37.870348</td>\n",
       "      <td>...</td>\n",
       "      <td>Customer</td>\n",
       "      <td>NaN</td>\n",
       "      <td>NaN</td>\n",
       "      <td>762.80</td>\n",
       "      <td>2017</td>\n",
       "      <td>12</td>\n",
       "      <td>Sunday</td>\n",
       "      <td>2017-12</td>\n",
       "      <td>22</td>\n",
       "      <td>0.000000</td>\n",
       "    </tr>\n",
       "    <tr>\n",
       "      <th>3</th>\n",
       "      <td>62172</td>\n",
       "      <td>2017-12-31 17:31:10.636</td>\n",
       "      <td>2018-01-01 10:47:23.531</td>\n",
       "      <td>60</td>\n",
       "      <td>8th St at Ringold St</td>\n",
       "      <td>37.774520</td>\n",
       "      <td>-122.409449</td>\n",
       "      <td>5</td>\n",
       "      <td>Powell St BART Station (Market St at 5th St)</td>\n",
       "      <td>37.783899</td>\n",
       "      <td>...</td>\n",
       "      <td>Customer</td>\n",
       "      <td>NaN</td>\n",
       "      <td>NaN</td>\n",
       "      <td>1036.20</td>\n",
       "      <td>2017</td>\n",
       "      <td>12</td>\n",
       "      <td>Sunday</td>\n",
       "      <td>2017-12</td>\n",
       "      <td>17</td>\n",
       "      <td>1.046096</td>\n",
       "    </tr>\n",
       "    <tr>\n",
       "      <th>4</th>\n",
       "      <td>43603</td>\n",
       "      <td>2017-12-31 14:23:14.001</td>\n",
       "      <td>2018-01-01 02:29:57.571</td>\n",
       "      <td>239</td>\n",
       "      <td>Bancroft Way at Telegraph Ave</td>\n",
       "      <td>37.868813</td>\n",
       "      <td>-122.258764</td>\n",
       "      <td>247</td>\n",
       "      <td>Fulton St at Bancroft Way</td>\n",
       "      <td>37.867789</td>\n",
       "      <td>...</td>\n",
       "      <td>Subscriber</td>\n",
       "      <td>NaN</td>\n",
       "      <td>NaN</td>\n",
       "      <td>726.72</td>\n",
       "      <td>2017</td>\n",
       "      <td>12</td>\n",
       "      <td>Sunday</td>\n",
       "      <td>2017-12</td>\n",
       "      <td>14</td>\n",
       "      <td>0.636020</td>\n",
       "    </tr>\n",
       "  </tbody>\n",
       "</table>\n",
       "<p>5 rows × 22 columns</p>\n",
       "</div>"
      ],
      "text/plain": [
       "   duration_sec              start_time                end_time  \\\n",
       "0         80110 2017-12-31 16:57:39.654 2018-01-01 15:12:50.245   \n",
       "1         78800 2017-12-31 15:56:34.842 2018-01-01 13:49:55.617   \n",
       "2         45768 2017-12-31 22:45:48.411 2018-01-01 11:28:36.883   \n",
       "3         62172 2017-12-31 17:31:10.636 2018-01-01 10:47:23.531   \n",
       "4         43603 2017-12-31 14:23:14.001 2018-01-01 02:29:57.571   \n",
       "\n",
       "  start_station_id                                 start_station_name  \\\n",
       "0               74                              Laguna St at Hayes St   \n",
       "1              284  Yerba Buena Center for the Arts (Howard St at ...   \n",
       "2              245                             Downtown Berkeley BART   \n",
       "3               60                               8th St at Ringold St   \n",
       "4              239                      Bancroft Way at Telegraph Ave   \n",
       "\n",
       "   start_station_latitude  start_station_longitude end_station_id  \\\n",
       "0               37.776435              -122.426244             43   \n",
       "1               37.784872              -122.400876             96   \n",
       "2               37.870348              -122.267764            245   \n",
       "3               37.774520              -122.409449              5   \n",
       "4               37.868813              -122.258764            247   \n",
       "\n",
       "                                    end_station_name  end_station_latitude  \\\n",
       "0  San Francisco Public Library (Grove St at Hyde...             37.778768   \n",
       "1                              Dolores St at 15th St             37.766210   \n",
       "2                             Downtown Berkeley BART             37.870348   \n",
       "3       Powell St BART Station (Market St at 5th St)             37.783899   \n",
       "4                          Fulton St at Bancroft Way             37.867789   \n",
       "\n",
       "     ...      user_type bike_share_for_all_trip rental_access_method  \\\n",
       "0    ...       Customer                     NaN                  NaN   \n",
       "1    ...       Customer                     NaN                  NaN   \n",
       "2    ...       Customer                     NaN                  NaN   \n",
       "3    ...       Customer                     NaN                  NaN   \n",
       "4    ...     Subscriber                     NaN                  NaN   \n",
       "\n",
       "  duration_min start_year  start_month  start_week  start_date start_hour  \\\n",
       "0      1335.17       2017           12      Sunday     2017-12         16   \n",
       "1      1313.33       2017           12      Sunday     2017-12         15   \n",
       "2       762.80       2017           12      Sunday     2017-12         22   \n",
       "3      1036.20       2017           12      Sunday     2017-12         17   \n",
       "4       726.72       2017           12      Sunday     2017-12         14   \n",
       "\n",
       "   distance  \n",
       "0  0.942458  \n",
       "1  3.068185  \n",
       "2  0.000000  \n",
       "3  1.046096  \n",
       "4  0.636020  \n",
       "\n",
       "[5 rows x 22 columns]"
      ]
     },
     "execution_count": 27,
     "metadata": {},
     "output_type": "execute_result"
    }
   ],
   "source": [
    "df = df.query('start_station_latitude != 0 & end_station_latitude !=0')\n",
    "df.reset_index(drop=True).head()"
   ]
  },
  {
   "cell_type": "markdown",
   "metadata": {},
   "source": [
    "**Test**"
   ]
  },
  {
   "cell_type": "code",
   "execution_count": 28,
   "metadata": {
    "scrolled": false
   },
   "outputs": [
    {
     "data": {
      "text/html": [
       "<div>\n",
       "<style scoped>\n",
       "    .dataframe tbody tr th:only-of-type {\n",
       "        vertical-align: middle;\n",
       "    }\n",
       "\n",
       "    .dataframe tbody tr th {\n",
       "        vertical-align: top;\n",
       "    }\n",
       "\n",
       "    .dataframe thead th {\n",
       "        text-align: right;\n",
       "    }\n",
       "</style>\n",
       "<table border=\"1\" class=\"dataframe\">\n",
       "  <thead>\n",
       "    <tr style=\"text-align: right;\">\n",
       "      <th></th>\n",
       "      <th>duration_sec</th>\n",
       "      <th>start_time</th>\n",
       "      <th>end_time</th>\n",
       "      <th>start_station_id</th>\n",
       "      <th>start_station_name</th>\n",
       "      <th>start_station_latitude</th>\n",
       "      <th>start_station_longitude</th>\n",
       "      <th>end_station_id</th>\n",
       "      <th>end_station_name</th>\n",
       "      <th>end_station_latitude</th>\n",
       "      <th>...</th>\n",
       "      <th>user_type</th>\n",
       "      <th>bike_share_for_all_trip</th>\n",
       "      <th>rental_access_method</th>\n",
       "      <th>duration_min</th>\n",
       "      <th>start_year</th>\n",
       "      <th>start_month</th>\n",
       "      <th>start_week</th>\n",
       "      <th>start_date</th>\n",
       "      <th>start_hour</th>\n",
       "      <th>distance</th>\n",
       "    </tr>\n",
       "  </thead>\n",
       "  <tbody>\n",
       "  </tbody>\n",
       "</table>\n",
       "<p>0 rows × 22 columns</p>\n",
       "</div>"
      ],
      "text/plain": [
       "Empty DataFrame\n",
       "Columns: [duration_sec, start_time, end_time, start_station_id, start_station_name, start_station_latitude, start_station_longitude, end_station_id, end_station_name, end_station_latitude, end_station_longitude, bike_id, user_type, bike_share_for_all_trip, rental_access_method, duration_min, start_year, start_month, start_week, start_date, start_hour, distance]\n",
       "Index: []\n",
       "\n",
       "[0 rows x 22 columns]"
      ]
     },
     "execution_count": 28,
     "metadata": {},
     "output_type": "execute_result"
    }
   ],
   "source": [
    "df.query('start_station_latitude == 0 | end_station_latitude ==0')"
   ]
  },
  {
   "cell_type": "markdown",
   "metadata": {},
   "source": [
    "### Create bins based on time of usage"
   ]
  },
  {
   "cell_type": "code",
   "execution_count": 29,
   "metadata": {},
   "outputs": [],
   "source": [
    "#Define Morning: 5:00 - 11:59, Afternoon: 12:00 to 16:59, Evening: 17:00 - 20:59, Night: 21- 4:59\n",
    "\n",
    "bin_name = ['NightX','Morning', 'Afternoon','Evening','Night']\n",
    "bin_edges= [0,5,12,17,21,24]\n",
    "df['period'] = pd.cut(df['start_hour'], bin_edges, labels=bin_name, right=False).str.replace('NightX','Night')\n",
    "\n",
    "#Make them categorical\n",
    "period_class_order = ['Morning', 'Afternoon','Evening','Night']\n",
    "classes = pd.api.types.CategoricalDtype(ordered=True, categories= period_class_order)\n",
    "df['period'] = df.period.astype(classes)"
   ]
  },
  {
   "cell_type": "markdown",
   "metadata": {},
   "source": [
    "## Analysis"
   ]
  },
  {
   "cell_type": "code",
   "execution_count": 30,
   "metadata": {},
   "outputs": [],
   "source": [
    "import matplotlib.pyplot as plt\n",
    "import seaborn as sb\n",
    "%matplotlib inline"
   ]
  },
  {
   "cell_type": "code",
   "execution_count": 31,
   "metadata": {},
   "outputs": [],
   "source": [
    "#Define Log function\n",
    "def log_trans(x, inverse=False):\n",
    "    if not inverse:\n",
    "        return np.log10(x)\n",
    "    else:\n",
    "        return np.power(10,x)"
   ]
  },
  {
   "cell_type": "markdown",
   "metadata": {},
   "source": [
    "### Univariate Exploration"
   ]
  },
  {
   "cell_type": "code",
   "execution_count": 32,
   "metadata": {
    "scrolled": false
   },
   "outputs": [
    {
     "data": {
      "image/png": "[encoded data removed]",
      "text/plain": [
       "<Figure size 432x288 with 1 Axes>"
      ]
     },
     "metadata": {
      "needs_background": "light"
     },
     "output_type": "display_data"
    }
   ],
   "source": [
    "#Standard-scale plot\n",
    "bin_edges = np.arange(0, df.duration_min.max()+ 10, 10)\n",
    "plt.hist(data=df, x='duration_min', bins=bin_edges)\n",
    "plt.xlim(0, 800)\n",
    "plt.xlabel('Duration (Mins)');"
   ]
  },
  {
   "cell_type": "code",
   "execution_count": 33,
   "metadata": {
    "scrolled": false
   },
   "outputs": [
    {
     "data": {
      "image/png": "[encoded data removed]",
      "text/plain": [
       "<Figure size 720x360 with 1 Axes>"
      ]
     },
     "metadata": {
      "needs_background": "light"
     },
     "output_type": "display_data"
    }
   ],
   "source": [
    "#Heavily skewed to the right.  Log transformation\n",
    "bin_edges = 10* np.arange(log_trans(df.duration_min.min()), log_trans(df.duration_min.max()) + 0.05, 0.05)\n",
    "\n",
    "plt.figure(figsize=[10,5])\n",
    "plt.hist(data=df, x='duration_min', bins=bin_edges)\n",
    "plt.xscale('log')\n",
    "tick_locs= [1,2,5,10,20,50,100,200, 500,1000,2000]\n",
    "plt.xticks(tick_locs, tick_locs)\n",
    "plt.xlim(1,50)\n",
    "plt.xlabel('Duration (Mins)');"
   ]
  },
  {
   "cell_type": "markdown",
   "metadata": {},
   "source": [
    "Comment"
   ]
  },
  {
   "cell_type": "code",
   "execution_count": 34,
   "metadata": {
    "scrolled": true
   },
   "outputs": [
    {
     "data": {
      "image/png": "[encoded data removed]",
      "text/plain": [
       "<Figure size 432x288 with 1 Axes>"
      ]
     },
     "metadata": {
      "needs_background": "light"
     },
     "output_type": "display_data"
    }
   ],
   "source": [
    "bin_edges = np.arange(0, df.distance.max() + 2, 2)\n",
    "plt.hist(data=df, x='distance', bins= bin_edges);\n",
    "plt.xlabel('Distance (km)');"
   ]
  },
  {
   "cell_type": "code",
   "execution_count": 35,
   "metadata": {
    "scrolled": true
   },
   "outputs": [
    {
     "data": {
      "image/png": "[encoded data removed]",
      "text/plain": [
       "<Figure size 432x288 with 1 Axes>"
      ]
     },
     "metadata": {
      "needs_background": "light"
     },
     "output_type": "display_data"
    }
   ],
   "source": [
    "bins_edge = 10 * np.arange(0, log_trans(df.distance.max()) + 0.005, 0.005)\n",
    "plt.hist(data=df, x='distance', bins=bins_edge)\n",
    "plt.xscale('log')\n",
    "tick_locs= [0.01,0.02,0.05,0.1,0.2,0.5,1,2,5,10,20,50,100]\n",
    "plt.xticks(tick_locs,tick_locs)\n",
    "plt.xlabel('Distance (km)');"
   ]
  },
  {
   "cell_type": "code",
   "execution_count": 36,
   "metadata": {
    "scrolled": true
   },
   "outputs": [],
   "source": [
    "#Drop entries that have 0 distance as we cannot perform analysis on those data point.  Save them in another dataframe in case we need to reference them later\n",
    "\n",
    "df_error = df[df.distance == 0]\n",
    "df = df[df.distance != 0]"
   ]
  },
  {
   "cell_type": "code",
   "execution_count": 37,
   "metadata": {
    "scrolled": true
   },
   "outputs": [
    {
     "data": {
      "image/png": "[encoded data removed]",
      "text/plain": [
       "<Figure size 720x360 with 1 Axes>"
      ]
     },
     "metadata": {
      "needs_background": "light"
     },
     "output_type": "display_data"
    }
   ],
   "source": [
    "bins_edge = 10 * np.arange(0, log_trans(df.distance.max()) + 0.005, 0.005)\n",
    "plt.figure(figsize=[10,5])\n",
    "plt.hist(data=df, x='distance', bins=bins_edge)\n",
    "plt.xscale('log')\n",
    "tick_locs= [0.01,0.02,0.05,0.1,0.2,0.5,1,2,5,10,20,50,100]\n",
    "plt.xticks(tick_locs,tick_locs)\n",
    "plt.xlabel('Distance (km)');"
   ]
  },
  {
   "cell_type": "code",
   "execution_count": 38,
   "metadata": {
    "scrolled": true
   },
   "outputs": [
    {
     "data": {
      "image/png": "[encoded data removed]",
      "text/plain": [
       "<Figure size 720x360 with 1 Axes>"
      ]
     },
     "metadata": {
      "needs_background": "light"
     },
     "output_type": "display_data"
    }
   ],
   "source": [
    "plt.figure(figsize=[10,5])\n",
    "bin_edge = np.arange(0, 24, 1)\n",
    "plt.hist(data=df, x='start_hour', bins=bin_edge);\n",
    "plt.xlim(0,24)\n",
    "plt.xticks(bin_edge)\n",
    "plt.xlabel('Usage Time (Hour)');"
   ]
  },
  {
   "cell_type": "markdown",
   "metadata": {},
   "source": []
  },
  {
   "cell_type": "code",
   "execution_count": 39,
   "metadata": {
    "scrolled": true
   },
   "outputs": [
    {
     "data": {
      "image/png": "[encoded data removed]",
      "text/plain": [
       "<Figure size 720x720 with 2 Axes>"
      ]
     },
     "metadata": {
      "needs_background": "light"
     },
     "output_type": "display_data"
    }
   ],
   "source": [
    "fig, ax = plt.subplots(2,1, figsize=[10,10])\n",
    "color = sb.color_palette()[0]\n",
    "sb.countplot(data=df, x='start_week', ax=ax[0], color= color)\n",
    "sb.countplot(data=df, x='period', ax=ax[1], color= color)\n",
    "ax[0].set_xlabel('Day of Week')\n",
    "ax[1].set_xlabel('Time Period');"
   ]
  },
  {
   "cell_type": "code",
   "execution_count": 40,
   "metadata": {
    "scrolled": true
   },
   "outputs": [
    {
     "data": {
      "image/png": "[encoded data removed]",
      "text/plain": [
       "<Figure size 936x432 with 2 Axes>"
      ]
     },
     "metadata": {},
     "output_type": "display_data"
    }
   ],
   "source": [
    "fig, ax= plt.subplots(1,2, figsize=[13,6])\n",
    "\n",
    "count1=df.user_type.value_counts()\n",
    "count2=df.bike_share_for_all_trip.value_counts()\n",
    "\n",
    "ax[0].pie(count1, labels=count1.index, startangle=90, counterclock=False, autopct='%.1f%%', wedgeprops={'width':0.25})\n",
    "ax[1].pie(count2, labels=count2.index, startangle=90, counterclock=False, autopct='%.1f%%', wedgeprops={'width':0.25})\n",
    "ax[0].set_title('User Type')\n",
    "ax[1].set_title('Bike Share for All Program Enrollment');"
   ]
  },
  {
   "cell_type": "markdown",
   "metadata": {},
   "source": [
    "### Bivariate Exploration"
   ]
  },
  {
   "cell_type": "code",
   "execution_count": 43,
   "metadata": {},
   "outputs": [],
   "source": [
    "num_vars= ['duration_min','start_month','start_hour','distance', 'period']\n",
    "cat_vars = ['user_type', 'bike_share_for_all_trip', 'start_week',  ]"
   ]
  },
  {
   "cell_type": "code",
   "execution_count": 44,
   "metadata": {},
   "outputs": [
    {
     "data": {
      "text/plain": [
       "<matplotlib.axes._subplots.AxesSubplot at 0x128d1dc9048>"
      ]
     },
     "execution_count": 44,
     "metadata": {},
     "output_type": "execute_result"
    },
    {
     "data": {
      "image/png": "[encoded data removed]",
      "text/plain": [
       "<Figure size 432x288 with 2 Axes>"
      ]
     },
     "metadata": {
      "needs_background": "light"
     },
     "output_type": "display_data"
    }
   ],
   "source": [
    "sb.heatmap(df[num_vars].corr(), center = 0, cmap = 'vlag_r', annot = True, fmt='.2f')"
   ]
  },
  {
   "cell_type": "markdown",
   "metadata": {},
   "source": []
  },
  {
   "cell_type": "code",
   "execution_count": 45,
   "metadata": {
    "scrolled": true
   },
   "outputs": [
    {
     "data": {
      "text/plain": [
       "<matplotlib.collections.PathCollection at 0x128f5684a58>"
      ]
     },
     "execution_count": 45,
     "metadata": {},
     "output_type": "execute_result"
    },
    {
     "data": {
      "image/png": "[encoded data removed]",
      "text/plain": [
       "<Figure size 432x288 with 1 Axes>"
      ]
     },
     "metadata": {
      "needs_background": "light"
     },
     "output_type": "display_data"
    }
   ],
   "source": [
    "plt.scatter(data=df, x='duration_min', y='distance')"
   ]
  },
  {
   "cell_type": "code",
   "execution_count": 46,
   "metadata": {
    "scrolled": true
   },
   "outputs": [
    {
     "data": {
      "image/png": "[encoded data removed]",
      "text/plain": [
       "<Figure size 432x288 with 1 Axes>"
      ]
     },
     "metadata": {
      "needs_background": "light"
     },
     "output_type": "display_data"
    }
   ],
   "source": [
    "plt.scatter(data=df, x='duration_min', y='distance')\n",
    "plt.ylim(0,30);"
   ]
  },
  {
   "cell_type": "markdown",
   "metadata": {},
   "source": []
  },
  {
   "cell_type": "code",
   "execution_count": 47,
   "metadata": {
    "scrolled": true
   },
   "outputs": [
    {
     "data": {
      "image/png": "[encoded data removed]",
      "text/plain": [
       "<Figure size 720x576 with 2 Axes>"
      ]
     },
     "metadata": {
      "needs_background": "light"
     },
     "output_type": "display_data"
    }
   ],
   "source": [
    "df['start_week_num'] = df.start_time.dt.dayofweek\n",
    "\n",
    "plt.figure(figsize=[10,8])\n",
    "x_pos = np.arange(0.5, 7.5, 1) #Position of x labels\n",
    "x_label = ['Monday', 'Tuesday', 'Wednesday', 'Thursday', 'Friday', 'Saturday', 'Sunday'] #Define x labels\n",
    "\n",
    "bins_x= np.arange(0,8,1)\n",
    "bins_y = np.arange(0,25,1)\n",
    "plt.hist2d(data=df, x='start_week_num', y='start_hour', cmap='mako_r', cmin=0.1, bins=[bins_x,bins_y])\n",
    "plt.xticks(x_pos,x_label)\n",
    "plt.yticks(bins_y)\n",
    "plt.xlabel('Day of Week')\n",
    "plt.ylabel('Hours')\n",
    "plt.colorbar()\n",
    "plt.title('Most Frequent Usage Based on Time');"
   ]
  },
  {
   "cell_type": "markdown",
   "metadata": {},
   "source": []
  },
  {
   "cell_type": "code",
   "execution_count": 48,
   "metadata": {
    "scrolled": false
   },
   "outputs": [
    {
     "data": {
      "text/plain": [
       "<matplotlib.axes._subplots.AxesSubplot at 0x12994087ac8>"
      ]
     },
     "execution_count": 48,
     "metadata": {},
     "output_type": "execute_result"
    },
    {
     "data": {
      "image/png": "[encoded data removed]",
      "text/plain": [
       "<Figure size 576x1440 with 3 Axes>"
      ]
     },
     "metadata": {
      "needs_background": "light"
     },
     "output_type": "display_data"
    }
   ],
   "source": [
    "fig, ax = plt.subplots(3,1, figsize=[8,20])\n",
    "sb.countplot(data=df, x='start_week', hue='period', palette='Blues', ax=ax[0])\n",
    "sb.countplot(data=df, x='user_type', hue='period', palette='Blues', ax=ax[1])\n",
    "sb.countplot(data=df, x='bike_share_for_all_trip', hue='period', palette='Blues', ax=ax[2]);"
   ]
  }
 ],
 "metadata": {
  "kernelspec": {
   "display_name": "Python 3",
   "language": "python",
   "name": "python3"
  },
  "language_info": {
   "codemirror_mode": {
    "name": "ipython",
    "version": 3
   },
   "file_extension": ".py",
   "mimetype": "text/x-python",
   "name": "python",
   "nbconvert_exporter": "python",
   "pygments_lexer": "ipython3",
   "version": "3.7.1"
  }
 },
 "nbformat": 4,
 "nbformat_minor": 2
}
